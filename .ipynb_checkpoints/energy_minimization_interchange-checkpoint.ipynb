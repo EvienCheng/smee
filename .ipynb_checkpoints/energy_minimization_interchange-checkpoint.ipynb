{
 "cells": [
  {
   "cell_type": "code",
   "execution_count": 9,
   "id": "46822a2f-be82-404c-85b9-44860b3641a9",
   "metadata": {},
   "outputs": [],
   "source": [
    "import pandas as pd\n",
    "from openff.toolkit.topology import Molecule\n",
    "from openff.toolkit.typing.engines.smirnoff import ForceField\n",
    "from openff.units import unit\n",
    "\n",
    "from openff.interchange import Interchange\n",
    "from openff.interchange.drivers import get_openmm_energies"
   ]
  },
  {
   "cell_type": "code",
   "execution_count": 10,
   "id": "06cb2714-99de-45fd-9e3c-1cf574482256",
   "metadata": {},
   "outputs": [],
   "source": [
    "SMILES = \"c1n(CCO)c(C(F)(F)(F))cc1CNCCl\"\n"
   ]
  },
  {
   "cell_type": "code",
   "execution_count": 11,
   "id": "946b0565-7d68-4f51-851e-def420e9e687",
   "metadata": {},
   "outputs": [],
   "source": [
    "molecule = Molecule.from_smiles(SMILES)\n",
    "(molecule.generate_conformers(n_conformers=20, rms_cutoff=0.1 * unit.angstrom),)\n",
    "topology = molecule.to_topology()"
   ]
  },
  {
   "cell_type": "code",
   "execution_count": 12,
   "id": "0fbdb55f-04e1-4185-9976-f3f27f3894e1",
   "metadata": {},
   "outputs": [],
   "source": [
    "sage = ForceField(\"harmonic_final-force-field.offxml\", load_plugins = True)\n"
   ]
  },
  {
   "cell_type": "code",
   "execution_count": 13,
   "id": "c3392e19-3d75-40b7-b478-45b11889029a",
   "metadata": {},
   "outputs": [],
   "source": [
    "interchange = Interchange.from_smirnoff(force_field=sage, topology=topology)\n"
   ]
  },
  {
   "cell_type": "code",
   "execution_count": 14,
   "id": "c0bde6e1-0f5e-4416-89af-25b74fe52b7c",
   "metadata": {},
   "outputs": [],
   "source": [
    "interchange.box = unit.Quantity([4, 4, 4], unit.nanometer)\n"
   ]
  },
  {
   "cell_type": "code",
   "execution_count": 15,
   "id": "83e3ca05-d1c5-4aa8-ae02-a749e3ecea61",
   "metadata": {},
   "outputs": [],
   "source": [
    "summary = pd.DataFrame()\n",
    "\n",
    "kj_mol = unit.kilojoule / unit.mol\n",
    "\n",
    "for idx, conformer in enumerate(molecule.conformers):\n",
    "    interchange.positions = conformer\n",
    "\n",
    "    openmm_energies = get_openmm_energies(interchange).total_energy.m_as(kj_mol)\n",
    "    # gromacs_energies = get_gromacs_energies(interchange).total_energy.m_as(kj_mol)\n",
    "\n",
    "    summary = pd.concat(\n",
    "        [\n",
    "            summary,\n",
    "            pd.DataFrame.from_dict(\n",
    "                {\n",
    "                    \"Conformer No.\": [idx],\n",
    "                    \"Interchange -> OpenMM (kJ/mol)\": [round(openmm_energies, 3)],\n",
    "                    # \"Interchange -> GROMACS\": [round(gromacs_energies, 3)],\n",
    "                }\n",
    "            ),\n",
    "        ]\n",
    "    )"
   ]
  },
  {
   "cell_type": "code",
   "execution_count": 16,
   "id": "693772b0-8a72-4a11-bb25-eb7a25aaf98f",
   "metadata": {},
   "outputs": [
    {
     "data": {
      "text/html": [
       "<style type=\"text/css\">\n",
       "</style>\n",
       "<table id=\"T_ed58a\">\n",
       "  <thead>\n",
       "    <tr>\n",
       "      <th id=\"T_ed58a_level0_col0\" class=\"col_heading level0 col0\" >Conformer No.</th>\n",
       "      <th id=\"T_ed58a_level0_col1\" class=\"col_heading level0 col1\" >Interchange -> OpenMM (kJ/mol)</th>\n",
       "    </tr>\n",
       "  </thead>\n",
       "  <tbody>\n",
       "    <tr>\n",
       "      <td id=\"T_ed58a_row0_col0\" class=\"data row0 col0\" >0</td>\n",
       "      <td id=\"T_ed58a_row0_col1\" class=\"data row0 col1\" >177.615000</td>\n",
       "    </tr>\n",
       "    <tr>\n",
       "      <td id=\"T_ed58a_row1_col0\" class=\"data row1 col0\" >1</td>\n",
       "      <td id=\"T_ed58a_row1_col1\" class=\"data row1 col1\" >287.770000</td>\n",
       "    </tr>\n",
       "    <tr>\n",
       "      <td id=\"T_ed58a_row2_col0\" class=\"data row2 col0\" >2</td>\n",
       "      <td id=\"T_ed58a_row2_col1\" class=\"data row2 col1\" >173.115000</td>\n",
       "    </tr>\n",
       "    <tr>\n",
       "      <td id=\"T_ed58a_row3_col0\" class=\"data row3 col0\" >3</td>\n",
       "      <td id=\"T_ed58a_row3_col1\" class=\"data row3 col1\" >228.669000</td>\n",
       "    </tr>\n",
       "    <tr>\n",
       "      <td id=\"T_ed58a_row4_col0\" class=\"data row4 col0\" >4</td>\n",
       "      <td id=\"T_ed58a_row4_col1\" class=\"data row4 col1\" >184.812000</td>\n",
       "    </tr>\n",
       "    <tr>\n",
       "      <td id=\"T_ed58a_row5_col0\" class=\"data row5 col0\" >5</td>\n",
       "      <td id=\"T_ed58a_row5_col1\" class=\"data row5 col1\" >188.673000</td>\n",
       "    </tr>\n",
       "    <tr>\n",
       "      <td id=\"T_ed58a_row6_col0\" class=\"data row6 col0\" >6</td>\n",
       "      <td id=\"T_ed58a_row6_col1\" class=\"data row6 col1\" >325.470000</td>\n",
       "    </tr>\n",
       "    <tr>\n",
       "      <td id=\"T_ed58a_row7_col0\" class=\"data row7 col0\" >7</td>\n",
       "      <td id=\"T_ed58a_row7_col1\" class=\"data row7 col1\" >143.899000</td>\n",
       "    </tr>\n",
       "    <tr>\n",
       "      <td id=\"T_ed58a_row8_col0\" class=\"data row8 col0\" >8</td>\n",
       "      <td id=\"T_ed58a_row8_col1\" class=\"data row8 col1\" >310.576000</td>\n",
       "    </tr>\n",
       "    <tr>\n",
       "      <td id=\"T_ed58a_row9_col0\" class=\"data row9 col0\" >9</td>\n",
       "      <td id=\"T_ed58a_row9_col1\" class=\"data row9 col1\" >271.478000</td>\n",
       "    </tr>\n",
       "    <tr>\n",
       "      <td id=\"T_ed58a_row10_col0\" class=\"data row10 col0\" >10</td>\n",
       "      <td id=\"T_ed58a_row10_col1\" class=\"data row10 col1\" >239.995000</td>\n",
       "    </tr>\n",
       "    <tr>\n",
       "      <td id=\"T_ed58a_row11_col0\" class=\"data row11 col0\" >11</td>\n",
       "      <td id=\"T_ed58a_row11_col1\" class=\"data row11 col1\" >268.836000</td>\n",
       "    </tr>\n",
       "    <tr>\n",
       "      <td id=\"T_ed58a_row12_col0\" class=\"data row12 col0\" >12</td>\n",
       "      <td id=\"T_ed58a_row12_col1\" class=\"data row12 col1\" >181.962000</td>\n",
       "    </tr>\n",
       "    <tr>\n",
       "      <td id=\"T_ed58a_row13_col0\" class=\"data row13 col0\" >13</td>\n",
       "      <td id=\"T_ed58a_row13_col1\" class=\"data row13 col1\" >196.247000</td>\n",
       "    </tr>\n",
       "    <tr>\n",
       "      <td id=\"T_ed58a_row14_col0\" class=\"data row14 col0\" >14</td>\n",
       "      <td id=\"T_ed58a_row14_col1\" class=\"data row14 col1\" >211.946000</td>\n",
       "    </tr>\n",
       "    <tr>\n",
       "      <td id=\"T_ed58a_row15_col0\" class=\"data row15 col0\" >15</td>\n",
       "      <td id=\"T_ed58a_row15_col1\" class=\"data row15 col1\" >300.895000</td>\n",
       "    </tr>\n",
       "    <tr>\n",
       "      <td id=\"T_ed58a_row16_col0\" class=\"data row16 col0\" >16</td>\n",
       "      <td id=\"T_ed58a_row16_col1\" class=\"data row16 col1\" >327.630000</td>\n",
       "    </tr>\n",
       "    <tr>\n",
       "      <td id=\"T_ed58a_row17_col0\" class=\"data row17 col0\" >17</td>\n",
       "      <td id=\"T_ed58a_row17_col1\" class=\"data row17 col1\" >364.179000</td>\n",
       "    </tr>\n",
       "    <tr>\n",
       "      <td id=\"T_ed58a_row18_col0\" class=\"data row18 col0\" >18</td>\n",
       "      <td id=\"T_ed58a_row18_col1\" class=\"data row18 col1\" >234.294000</td>\n",
       "    </tr>\n",
       "    <tr>\n",
       "      <td id=\"T_ed58a_row19_col0\" class=\"data row19 col0\" >19</td>\n",
       "      <td id=\"T_ed58a_row19_col1\" class=\"data row19 col1\" >254.930000</td>\n",
       "    </tr>\n",
       "  </tbody>\n",
       "</table>\n"
      ],
      "text/plain": [
       "<pandas.io.formats.style.Styler at 0x7f7391f4d790>"
      ]
     },
     "execution_count": 16,
     "metadata": {},
     "output_type": "execute_result"
    }
   ],
   "source": [
    "summary.style.hide(axis=\"index\")\n"
   ]
  },
  {
   "cell_type": "code",
   "execution_count": null,
   "id": "79c946b7-7a22-4fa0-9a13-34f4a5a289a3",
   "metadata": {},
   "outputs": [],
   "source": []
  }
 ],
 "metadata": {
  "kernelspec": {
   "display_name": "Python 3 (ipykernel)",
   "language": "python",
   "name": "python3"
  },
  "language_info": {
   "codemirror_mode": {
    "name": "ipython",
    "version": 3
   },
   "file_extension": ".py",
   "mimetype": "text/x-python",
   "name": "python",
   "nbconvert_exporter": "python",
   "pygments_lexer": "ipython3",
   "version": "3.11.11"
  }
 },
 "nbformat": 4,
 "nbformat_minor": 5
}
