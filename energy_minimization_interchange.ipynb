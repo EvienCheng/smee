{
 "cells": [
  {
   "cell_type": "code",
   "execution_count": 1,
   "id": "46822a2f-be82-404c-85b9-44860b3641a9",
   "metadata": {},
   "outputs": [],
   "source": [
    "import pandas as pd\n",
    "from openff.toolkit.topology import Molecule\n",
    "from openff.toolkit.typing.engines.smirnoff import ForceField\n",
    "from openff.units import unit\n",
    "\n",
    "from openff.interchange import Interchange\n",
    "from openff.interchange.drivers import get_openmm_energies"
   ]
  },
  {
   "cell_type": "code",
   "execution_count": 2,
   "id": "06cb2714-99de-45fd-9e3c-1cf574482256",
   "metadata": {},
   "outputs": [],
   "source": [
    "SMILES = \"c1n(CCO)c(C(F)(F)(F))cc1CNCCl\"\n"
   ]
  },
  {
   "cell_type": "code",
   "execution_count": 3,
   "id": "946b0565-7d68-4f51-851e-def420e9e687",
   "metadata": {},
   "outputs": [],
   "source": [
    "molecule = Molecule.from_smiles(SMILES)\n",
    "(molecule.generate_conformers(n_conformers=20, rms_cutoff=0.1 * unit.angstrom),)\n",
    "topology = molecule.to_topology()"
   ]
  },
  {
   "cell_type": "code",
   "execution_count": 5,
   "id": "0fbdb55f-04e1-4185-9976-f3f27f3894e1",
   "metadata": {},
   "outputs": [],
   "source": [
    "sage = ForceField(\"two_minima_final-force-field.offxml\", load_plugins = True)\n"
   ]
  },
  {
   "cell_type": "code",
   "execution_count": 6,
   "id": "c3392e19-3d75-40b7-b478-45b11889029a",
   "metadata": {},
   "outputs": [
    {
     "name": "stderr",
     "output_type": "stream",
     "text": [
      "/home/evienc/miniconda3/envs/smee-descent/lib/python3.11/site-packages/pydantic/_internal/_generate_schema.py:502: UserWarning: FieldInfo(annotation=NoneType, required=False, default='VirtualSites') is not a Python type (it may be an instance of an object), Pydantic will allow any object with no validation since we cannot even enforce that the input is an instance of the given type. To get rid of this error wrap the type with `pydantic.SkipValidation`.\n",
      "  warn(\n"
     ]
    }
   ],
   "source": [
    "interchange = Interchange.from_smirnoff(force_field=sage, topology=topology)\n"
   ]
  },
  {
   "cell_type": "code",
   "execution_count": 7,
   "id": "c0bde6e1-0f5e-4416-89af-25b74fe52b7c",
   "metadata": {},
   "outputs": [],
   "source": [
    "interchange.box = unit.Quantity([4, 4, 4], unit.nanometer)\n"
   ]
  },
  {
   "cell_type": "code",
   "execution_count": 9,
   "id": "83e3ca05-d1c5-4aa8-ae02-a749e3ecea61",
   "metadata": {},
   "outputs": [],
   "source": [
    "summary = pd.DataFrame()\n",
    "\n",
    "kj_mol = unit.kilojoule / unit.mol\n",
    "\n",
    "for idx, conformer in enumerate(molecule.conformers):\n",
    "    interchange.positions = conformer\n",
    "\n",
    "    openmm_energies = get_openmm_energies(interchange).total_energy.m_as(kj_mol)\n",
    "    # gromacs_energies = get_gromacs_energies(interchange).total_energy.m_as(kj_mol)\n",
    "\n",
    "    summary = pd.concat(\n",
    "        [\n",
    "            summary,\n",
    "            pd.DataFrame.from_dict(\n",
    "                {\n",
    "                    \"Conformer No.\": [idx],\n",
    "                    \"Interchange -> OpenMM (kJ/mol)\": [round(openmm_energies, 3)],\n",
    "                    # \"Interchange -> GROMACS\": [round(gromacs_energies, 3)],\n",
    "                }\n",
    "            ),\n",
    "        ]\n",
    "    )"
   ]
  },
  {
   "cell_type": "code",
   "execution_count": 10,
   "id": "693772b0-8a72-4a11-bb25-eb7a25aaf98f",
   "metadata": {},
   "outputs": [
    {
     "data": {
      "text/html": [
       "<style type=\"text/css\">\n",
       "</style>\n",
       "<table id=\"T_2091f\">\n",
       "  <thead>\n",
       "    <tr>\n",
       "      <th id=\"T_2091f_level0_col0\" class=\"col_heading level0 col0\" >Conformer No.</th>\n",
       "      <th id=\"T_2091f_level0_col1\" class=\"col_heading level0 col1\" >Interchange -> OpenMM (kJ/mol)</th>\n",
       "    </tr>\n",
       "  </thead>\n",
       "  <tbody>\n",
       "    <tr>\n",
       "      <td id=\"T_2091f_row0_col0\" class=\"data row0 col0\" >0</td>\n",
       "      <td id=\"T_2091f_row0_col1\" class=\"data row0 col1\" >127.126000</td>\n",
       "    </tr>\n",
       "    <tr>\n",
       "      <td id=\"T_2091f_row1_col0\" class=\"data row1 col0\" >1</td>\n",
       "      <td id=\"T_2091f_row1_col1\" class=\"data row1 col1\" >223.066000</td>\n",
       "    </tr>\n",
       "    <tr>\n",
       "      <td id=\"T_2091f_row2_col0\" class=\"data row2 col0\" >2</td>\n",
       "      <td id=\"T_2091f_row2_col1\" class=\"data row2 col1\" >120.141000</td>\n",
       "    </tr>\n",
       "    <tr>\n",
       "      <td id=\"T_2091f_row3_col0\" class=\"data row3 col0\" >3</td>\n",
       "      <td id=\"T_2091f_row3_col1\" class=\"data row3 col1\" >193.710000</td>\n",
       "    </tr>\n",
       "    <tr>\n",
       "      <td id=\"T_2091f_row4_col0\" class=\"data row4 col0\" >4</td>\n",
       "      <td id=\"T_2091f_row4_col1\" class=\"data row4 col1\" >144.724000</td>\n",
       "    </tr>\n",
       "    <tr>\n",
       "      <td id=\"T_2091f_row5_col0\" class=\"data row5 col0\" >5</td>\n",
       "      <td id=\"T_2091f_row5_col1\" class=\"data row5 col1\" >142.400000</td>\n",
       "    </tr>\n",
       "    <tr>\n",
       "      <td id=\"T_2091f_row6_col0\" class=\"data row6 col0\" >6</td>\n",
       "      <td id=\"T_2091f_row6_col1\" class=\"data row6 col1\" >296.714000</td>\n",
       "    </tr>\n",
       "    <tr>\n",
       "      <td id=\"T_2091f_row7_col0\" class=\"data row7 col0\" >7</td>\n",
       "      <td id=\"T_2091f_row7_col1\" class=\"data row7 col1\" >101.070000</td>\n",
       "    </tr>\n",
       "    <tr>\n",
       "      <td id=\"T_2091f_row8_col0\" class=\"data row8 col0\" >8</td>\n",
       "      <td id=\"T_2091f_row8_col1\" class=\"data row8 col1\" >250.271000</td>\n",
       "    </tr>\n",
       "    <tr>\n",
       "      <td id=\"T_2091f_row9_col0\" class=\"data row9 col0\" >9</td>\n",
       "      <td id=\"T_2091f_row9_col1\" class=\"data row9 col1\" >224.465000</td>\n",
       "    </tr>\n",
       "    <tr>\n",
       "      <td id=\"T_2091f_row10_col0\" class=\"data row10 col0\" >10</td>\n",
       "      <td id=\"T_2091f_row10_col1\" class=\"data row10 col1\" >183.641000</td>\n",
       "    </tr>\n",
       "    <tr>\n",
       "      <td id=\"T_2091f_row11_col0\" class=\"data row11 col0\" >11</td>\n",
       "      <td id=\"T_2091f_row11_col1\" class=\"data row11 col1\" >242.461000</td>\n",
       "    </tr>\n",
       "    <tr>\n",
       "      <td id=\"T_2091f_row12_col0\" class=\"data row12 col0\" >12</td>\n",
       "      <td id=\"T_2091f_row12_col1\" class=\"data row12 col1\" >136.823000</td>\n",
       "    </tr>\n",
       "    <tr>\n",
       "      <td id=\"T_2091f_row13_col0\" class=\"data row13 col0\" >13</td>\n",
       "      <td id=\"T_2091f_row13_col1\" class=\"data row13 col1\" >155.310000</td>\n",
       "    </tr>\n",
       "    <tr>\n",
       "      <td id=\"T_2091f_row14_col0\" class=\"data row14 col0\" >14</td>\n",
       "      <td id=\"T_2091f_row14_col1\" class=\"data row14 col1\" >169.129000</td>\n",
       "    </tr>\n",
       "    <tr>\n",
       "      <td id=\"T_2091f_row15_col0\" class=\"data row15 col0\" >15</td>\n",
       "      <td id=\"T_2091f_row15_col1\" class=\"data row15 col1\" >263.760000</td>\n",
       "    </tr>\n",
       "    <tr>\n",
       "      <td id=\"T_2091f_row16_col0\" class=\"data row16 col0\" >16</td>\n",
       "      <td id=\"T_2091f_row16_col1\" class=\"data row16 col1\" >272.488000</td>\n",
       "    </tr>\n",
       "    <tr>\n",
       "      <td id=\"T_2091f_row17_col0\" class=\"data row17 col0\" >17</td>\n",
       "      <td id=\"T_2091f_row17_col1\" class=\"data row17 col1\" >312.763000</td>\n",
       "    </tr>\n",
       "    <tr>\n",
       "      <td id=\"T_2091f_row18_col0\" class=\"data row18 col0\" >18</td>\n",
       "      <td id=\"T_2091f_row18_col1\" class=\"data row18 col1\" >196.296000</td>\n",
       "    </tr>\n",
       "    <tr>\n",
       "      <td id=\"T_2091f_row19_col0\" class=\"data row19 col0\" >19</td>\n",
       "      <td id=\"T_2091f_row19_col1\" class=\"data row19 col1\" >219.070000</td>\n",
       "    </tr>\n",
       "  </tbody>\n",
       "</table>\n"
      ],
      "text/plain": [
       "<pandas.io.formats.style.Styler at 0x7f5dd31f3c90>"
      ]
     },
     "execution_count": 10,
     "metadata": {},
     "output_type": "execute_result"
    }
   ],
   "source": [
    "summary.style.hide(axis=\"index\")\n"
   ]
  },
  {
   "cell_type": "code",
   "execution_count": null,
   "id": "79c946b7-7a22-4fa0-9a13-34f4a5a289a3",
   "metadata": {},
   "outputs": [],
   "source": []
  }
 ],
 "metadata": {
  "kernelspec": {
   "display_name": "Python 3 (ipykernel)",
   "language": "python",
   "name": "python3"
  },
  "language_info": {
   "codemirror_mode": {
    "name": "ipython",
    "version": 3
   },
   "file_extension": ".py",
   "mimetype": "text/x-python",
   "name": "python",
   "nbconvert_exporter": "python",
   "pygments_lexer": "ipython3",
   "version": "3.11.11"
  }
 },
 "nbformat": 4,
 "nbformat_minor": 5
}
