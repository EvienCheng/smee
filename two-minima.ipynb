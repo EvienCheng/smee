{
 "cells": [
  {
   "cell_type": "markdown",
   "id": "ba722746-0be7-4352-ac48-63629db33412",
   "metadata": {},
   "source": [
    "## Assign parameters to molecules in the dataset"
   ]
  },
  {
   "cell_type": "code",
   "execution_count": 1,
   "id": "38930f6d-9697-40ca-9d91-58eb8be20923",
   "metadata": {},
   "outputs": [],
   "source": [
    "from openff.toolkit import Molecule, ForceField\n",
    "import tqdm\n",
    "import smee.converters\n",
    "from pydantic import Field"
   ]
  },
  {
   "cell_type": "code",
   "execution_count": 2,
   "id": "bfb21152-bc07-4f6d-9cf3-380afe517214",
   "metadata": {},
   "outputs": [],
   "source": [
    "# uncomment if reloading data\n",
    "import datasets\n",
    "\n",
    "dataset = datasets.Dataset.load_from_disk(\"test-smee-data\")"
   ]
  },
  {
   "cell_type": "code",
   "execution_count": 3,
   "id": "71f2a430-04aa-4004-9711-8f2a759c4516",
   "metadata": {
    "scrolled": true
   },
   "outputs": [],
   "source": [
    "# reformat dataset lists to torch tensors\n",
    "dataset.set_format('torch', columns=['energy', 'coords','forces'], output_all_columns=True)"
   ]
  },
  {
   "cell_type": "code",
   "execution_count": 4,
   "id": "b0ec034c-3610-487a-85f5-584d0ad2ea3d",
   "metadata": {},
   "outputs": [
    {
     "data": {
      "text/plain": [
       "{'coords': tensor([-0.5399,  2.1674, -3.7936,  ...,  0.1233,  3.3214,  2.1324]),\n",
       " 'energy': tensor([-322860.4375, -322860.5000, -322860.6562, -322860.7812, -322860.8125,\n",
       "         -322860.7500, -322860.6250, -322860.5000, -322860.6250, -322860.7500,\n",
       "         -322860.8125, -322860.7812, -322860.6562, -322860.5000, -322860.4375,\n",
       "         -322860.5000, -322860.6562, -322860.7812, -322860.8125, -322860.5000,\n",
       "         -322860.4375, -322860.5000, -322860.6250, -322860.7500]),\n",
       " 'forces': tensor([ 0.0021,  0.0088, -0.0046,  ..., -0.0018,  0.0060, -0.0051]),\n",
       " 'smiles': '[H:14][C:7]([H:15])([H:16])[C:6]1=[C:8]([C:3](=[N:4][O:5]1)[O:2][C:1]([H:11])([H:12])[H:13])[C:9]([H:17])([H:18])[O:10][H:19]'}"
      ]
     },
     "execution_count": 4,
     "metadata": {},
     "output_type": "execute_result"
    }
   ],
   "source": [
    "# this is what a single entry looks like\n",
    "dataset[0]"
   ]
  },
  {
   "cell_type": "markdown",
   "id": "11bd3ed1-50ee-4b4b-b96e-c6e69d326b2d",
   "metadata": {},
   "source": [
    "Below we specify a starting force field.\n",
    "Normally we would initialize parameters using the Modified Seminario method,\n",
    "[example here](https://github.com/openforcefield/sage-2.2.1/blob/main/03_generate-initial-ff/create-msm-ff.py),\n",
    "but here we just start from Sage 2.2.1.\n",
    "\n",
    "[Josh's repo](https://github.com/jthorton/SPICE-SMEE/blob/main/fit-v1/training/001-expand_torsions.py)\n",
    "has examples on expanding torsions too."
   ]
  },
  {
   "cell_type": "code",
   "execution_count": 5,
   "id": "d7077be7-38f3-445a-b5bd-f3208e2b20c5",
   "metadata": {},
   "outputs": [],
   "source": [
    "import torch\n",
    "import smee\n",
    "\n",
    "@smee.potentials.potential_energy_fn(\"TwoMinima\", \"twominima\")\n",
    "def compute_twominima_energy(\n",
    "    system: smee.TensorSystem,\n",
    "    potential: smee.TensorPotential,\n",
    "    conformer: torch.Tensor,\n",
    ") -> torch.Tensor:\n",
    "    is_batched = conformer.ndim == 3\n",
    "\n",
    "    if not is_batched:\n",
    "        conformer = torch.unsqueeze(conformer, 0)\n",
    "\n",
    "    parameters = potential.parameters\n",
    "    attributes = potential.attributes\n",
    "\n",
    "    k1 = parameters[:, 0]\n",
    "    k2 = parameters[:, 1]\n",
    "    periodicity = parameters[:, 2]\n",
    "    phase = parameters[:, 3]\n",
    "\n",
    "    central_atom = conformer[:, 0, :]\n",
    "    bonded_atoms = conformer[:, 1:, :]\n",
    "    normal_vector = torch.cross(bonded_atoms[:, 1] - bonded_atoms[:, 0], \n",
    "                                bonded_atoms[:, 2] - bonded_atoms[:, 0])\n",
    "    normal_vector = normal_vector / torch.norm(normal_vector, dim=-1, keepdim=True)\n",
    "\n",
    "    oop_vector = central_atom - bonded_atoms[:, 0]\n",
    "    theta = torch.acos(torch.sum(oop_vector * normal_vector, dim=-1) / torch.norm(oop_vector, dim=-1))\n",
    "\n",
    "    energy_1 = k1 * (1 + torch.cos(periodicity * theta - phase))\n",
    "    energy_2 = k2 * (1 + torch.cos(2 * periodicity * theta + phase))\n",
    "    \n",
    "    energy = (energy_1 - energy_2).sum(-1)\n",
    "\n",
    "    if not is_batched:\n",
    "        energy = torch.squeeze(energy, 0)\n",
    "\n",
    "    return energy\n"
   ]
  },
  {
   "cell_type": "code",
   "execution_count": null,
   "id": "242c9d03-61eb-4fc7-823e-1be15addf04b",
   "metadata": {},
   "outputs": [],
   "source": []
  },
  {
   "cell_type": "code",
   "execution_count": 6,
   "id": "f2df5968-05cf-4880-b0b8-c8ed781d118f",
   "metadata": {},
   "outputs": [],
   "source": [
    "from smee.converters.openff.valence import convert_valence_handlers\n",
    "from smirnoff_plugins.collections.valence import SMIRNOFFTwoMinimaCollection\n",
    "import openff\n",
    "\n",
    "def convert_twominima(\n",
    "    handlers: list[SMIRNOFFTwoMinimaCollection],\n",
    "    topologies: list[openff.toolkit.Topology],\n",
    ") -> tuple[smee.TensorPotential, list[smee.ValenceParameterMap]]:\n",
    "    return convert_valence_handlers(handlers, topologies)"
   ]
  },
  {
   "cell_type": "code",
   "execution_count": 7,
   "id": "0932e704-4ce2-4ac5-8db2-cafa3466771f",
   "metadata": {},
   "outputs": [
    {
     "data": {
      "text/plain": [
       "Interchange with 8 collections, non-periodic topology with 28 atoms."
      ]
     },
     "execution_count": 7,
     "metadata": {},
     "output_type": "execute_result"
    }
   ],
   "source": [
    "from openff.toolkit import ForceField\n",
    "import openff.interchange as interchange\n",
    "\n",
    "twominima_force_field = ForceField(\"two_minima.offxml\", load_plugins = True)\n",
    "\n",
    "molecule = openff.toolkit.Molecule.from_smiles(\"c1n(CCO)c(C(F)(F)(F))cc1CNCCl\")\n",
    "molecule.generate_conformers(n_conformers=1)\n",
    "\n",
    "conformer = torch.tensor(molecule.conformers[0].m_as(openff.units.unit.angstrom))\n",
    "\n",
    "twominima_interchange = interchange.Interchange.from_smirnoff(\n",
    "    twominima_force_field, molecule.to_topology()\n",
    ")\n",
    "\n",
    "twominima_interchange"
   ]
  },
  {
   "cell_type": "code",
   "execution_count": 8,
   "id": "341f6db9-a091-41b1-b137-1f8691813c53",
   "metadata": {},
   "outputs": [],
   "source": [
    "handler_types = {\n",
    "        handler_type\n",
    "        for interchange in [twominima_interchange]\n",
    "        for handler_type in interchange.collections\n",
    "    }"
   ]
  },
  {
   "cell_type": "code",
   "execution_count": 9,
   "id": "3186533b-24b0-41ea-a7bc-7eb245361dee",
   "metadata": {},
   "outputs": [
    {
     "data": {
      "text/plain": [
       "{'Angles',\n",
       " 'Bonds',\n",
       " 'Constraints',\n",
       " 'Electrostatics',\n",
       " 'ImproperTorsions',\n",
       " 'ProperTorsions',\n",
       " 'TwoMinima',\n",
       " 'vdW'}"
      ]
     },
     "execution_count": 9,
     "metadata": {},
     "output_type": "execute_result"
    }
   ],
   "source": [
    "handler_types"
   ]
  },
  {
   "cell_type": "code",
   "execution_count": 10,
   "id": "de09cea9-d206-4c84-a5ad-2427c4b3ed2d",
   "metadata": {
    "scrolled": true
   },
   "outputs": [
    {
     "name": "stdout",
     "output_type": "stream",
     "text": [
      "Forces for molecule 0\n",
      "\n",
      "Constraints:\n",
      "\n",
      "Bonds:\n",
      "atoms:   0  1  parameter_id: b8  smirks [#6X3:1]-[#7X3:2]\n",
      "atoms:   0 11  parameter_id: b6  smirks [#6X3:1]=[#6X3:2]\n",
      "atoms:   0 16  parameter_id: b85  smirks [#6X3:1]-[#1:2]\n",
      "atoms:   1  2  parameter_id: b7  smirks [#6:1]-[#7:2]\n",
      "atoms:   1  5  parameter_id: b8  smirks [#6X3:1]-[#7X3:2]\n",
      "atoms:   2  3  parameter_id: b1  smirks [#6X4:1]-[#6X4:2]\n",
      "atoms:   2 17  parameter_id: b84  smirks [#6X4:1]-[#1:2]\n",
      "atoms:   2 18  parameter_id: b84  smirks [#6X4:1]-[#1:2]\n",
      "atoms:   3  4  parameter_id: b14  smirks [#6:1]-[#8:2]\n",
      "atoms:   3 19  parameter_id: b84  smirks [#6X4:1]-[#1:2]\n",
      "atoms:   3 20  parameter_id: b84  smirks [#6X4:1]-[#1:2]\n",
      "atoms:   4 21  parameter_id: b88  smirks [#8:1]-[#1:2]\n",
      "atoms:   5  6  parameter_id: b2  smirks [#6X4:1]-[#6X3:2]\n",
      "atoms:   5 10  parameter_id: b6  smirks [#6X3:1]=[#6X3:2]\n",
      "atoms:   6  7  parameter_id: b69  smirks [#6X4:1]-[#9:2]\n",
      "atoms:   6  8  parameter_id: b69  smirks [#6X4:1]-[#9:2]\n",
      "atoms:   6  9  parameter_id: b69  smirks [#6X4:1]-[#9:2]\n",
      "atoms:  10 11  parameter_id: b4  smirks [#6X3:1]-[#6X3:2]\n",
      "atoms:  10 22  parameter_id: b85  smirks [#6X3:1]-[#1:2]\n",
      "atoms:  11 12  parameter_id: b2  smirks [#6X4:1]-[#6X3:2]\n",
      "atoms:  12 13  parameter_id: b7  smirks [#6:1]-[#7:2]\n",
      "atoms:  12 23  parameter_id: b84  smirks [#6X4:1]-[#1:2]\n",
      "atoms:  12 24  parameter_id: b84  smirks [#6X4:1]-[#1:2]\n",
      "atoms:  13 14  parameter_id: b7  smirks [#6:1]-[#7:2]\n",
      "atoms:  13 25  parameter_id: b87  smirks [#7:1]-[#1:2]\n",
      "atoms:  14 15  parameter_id: b71  smirks [#6X4:1]-[#17:2]\n",
      "atoms:  14 26  parameter_id: b84  smirks [#6X4:1]-[#1:2]\n",
      "atoms:  14 27  parameter_id: b84  smirks [#6X4:1]-[#1:2]\n",
      "\n",
      "Angles:\n",
      "atoms:   0  1  2  parameter_id: a20  smirks [*:1]~[#7X3$(*~[#6X3,#6X2,#7X2+0]):2]~[*:3]\n",
      "atoms:   0  1  5  parameter_id: a20  smirks [*:1]~[#7X3$(*~[#6X3,#6X2,#7X2+0]):2]~[*:3]\n",
      "atoms:   0 11 10  parameter_id: a10  smirks [*:1]~[#6X3:2]~[*:3]\n",
      "atoms:   0 11 12  parameter_id: a14  smirks [*:1]~;!@[*;X3;r5:2]~;@[*;r5:3]\n",
      "atoms:   1  0 11  parameter_id: a10  smirks [*:1]~[#6X3:2]~[*:3]\n",
      "atoms:   1  0 16  parameter_id: a14  smirks [*:1]~;!@[*;X3;r5:2]~;@[*;r5:3]\n",
      "atoms:   1  2  3  parameter_id: a1  smirks [*:1]~[#6X4:2]-[*:3]\n",
      "atoms:   1  2 17  parameter_id: a1  smirks [*:1]~[#6X4:2]-[*:3]\n",
      "atoms:   1  2 18  parameter_id: a1  smirks [*:1]~[#6X4:2]-[*:3]\n",
      "atoms:   1  5  6  parameter_id: a14  smirks [*:1]~;!@[*;X3;r5:2]~;@[*;r5:3]\n",
      "atoms:   1  5 10  parameter_id: a10  smirks [*:1]~[#6X3:2]~[*:3]\n",
      "atoms:   2  1  5  parameter_id: a20  smirks [*:1]~[#7X3$(*~[#6X3,#6X2,#7X2+0]):2]~[*:3]\n",
      "atoms:   2  3  4  parameter_id: a1  smirks [*:1]~[#6X4:2]-[*:3]\n",
      "atoms:   2  3 19  parameter_id: a1  smirks [*:1]~[#6X4:2]-[*:3]\n",
      "atoms:   2  3 20  parameter_id: a1  smirks [*:1]~[#6X4:2]-[*:3]\n",
      "atoms:   3  2 17  parameter_id: a1  smirks [*:1]~[#6X4:2]-[*:3]\n",
      "atoms:   3  2 18  parameter_id: a1  smirks [*:1]~[#6X4:2]-[*:3]\n",
      "atoms:   3  4 21  parameter_id: a28  smirks [*:1]-[#8:2]-[*:3]\n",
      "atoms:   4  3 19  parameter_id: a1  smirks [*:1]~[#6X4:2]-[*:3]\n",
      "atoms:   4  3 20  parameter_id: a1  smirks [*:1]~[#6X4:2]-[*:3]\n",
      "atoms:   5  6  7  parameter_id: a1  smirks [*:1]~[#6X4:2]-[*:3]\n",
      "atoms:   5  6  8  parameter_id: a1  smirks [*:1]~[#6X4:2]-[*:3]\n",
      "atoms:   5  6  9  parameter_id: a1  smirks [*:1]~[#6X4:2]-[*:3]\n",
      "atoms:   5 10 11  parameter_id: a10  smirks [*:1]~[#6X3:2]~[*:3]\n",
      "atoms:   5 10 22  parameter_id: a14  smirks [*:1]~;!@[*;X3;r5:2]~;@[*;r5:3]\n",
      "atoms:   6  5 10  parameter_id: a14  smirks [*:1]~;!@[*;X3;r5:2]~;@[*;r5:3]\n",
      "atoms:   7  6  8  parameter_id: a1  smirks [*:1]~[#6X4:2]-[*:3]\n",
      "atoms:   7  6  9  parameter_id: a1  smirks [*:1]~[#6X4:2]-[*:3]\n",
      "atoms:   8  6  9  parameter_id: a1  smirks [*:1]~[#6X4:2]-[*:3]\n",
      "atoms:  10 11 12  parameter_id: a14  smirks [*:1]~;!@[*;X3;r5:2]~;@[*;r5:3]\n",
      "atoms:  11  0 16  parameter_id: a14  smirks [*:1]~;!@[*;X3;r5:2]~;@[*;r5:3]\n",
      "atoms:  11 10 22  parameter_id: a14  smirks [*:1]~;!@[*;X3;r5:2]~;@[*;r5:3]\n",
      "atoms:  11 12 13  parameter_id: a1  smirks [*:1]~[#6X4:2]-[*:3]\n",
      "atoms:  11 12 23  parameter_id: a1  smirks [*:1]~[#6X4:2]-[*:3]\n",
      "atoms:  11 12 24  parameter_id: a1  smirks [*:1]~[#6X4:2]-[*:3]\n",
      "atoms:  12 13 14  parameter_id: a18  smirks [*:1]~[#7X4,#7X3,#7X2-1:2]~[*:3]\n",
      "atoms:  12 13 25  parameter_id: a19  smirks [#1:1]-[#7X4,#7X3,#7X2-1:2]-[*:3]\n",
      "atoms:  13 12 23  parameter_id: a1  smirks [*:1]~[#6X4:2]-[*:3]\n",
      "atoms:  13 12 24  parameter_id: a1  smirks [*:1]~[#6X4:2]-[*:3]\n",
      "atoms:  13 14 15  parameter_id: a1  smirks [*:1]~[#6X4:2]-[*:3]\n",
      "atoms:  13 14 26  parameter_id: a1  smirks [*:1]~[#6X4:2]-[*:3]\n",
      "atoms:  13 14 27  parameter_id: a1  smirks [*:1]~[#6X4:2]-[*:3]\n",
      "atoms:  14 13 25  parameter_id: a19  smirks [#1:1]-[#7X4,#7X3,#7X2-1:2]-[*:3]\n",
      "atoms:  15 14 26  parameter_id: a1  smirks [*:1]~[#6X4:2]-[*:3]\n",
      "atoms:  15 14 27  parameter_id: a1  smirks [*:1]~[#6X4:2]-[*:3]\n",
      "atoms:  17  2 18  parameter_id: a2  smirks [#1:1]-[#6X4:2]-[#1:3]\n",
      "atoms:  19  3 20  parameter_id: a2  smirks [#1:1]-[#6X4:2]-[#1:3]\n",
      "atoms:  23 12 24  parameter_id: a2  smirks [#1:1]-[#6X4:2]-[#1:3]\n",
      "atoms:  26 14 27  parameter_id: a2  smirks [#1:1]-[#6X4:2]-[#1:3]\n",
      "\n",
      "ProperTorsions:\n",
      "atoms:   0  1  2  3  parameter_id: t64  smirks [*:1]-[#6X4:2]-[#7X3$(*~[#6X3,#6X2]):3]~[*:4]\n",
      "atoms:   0  1  2 17  parameter_id: t64  smirks [*:1]-[#6X4:2]-[#7X3$(*~[#6X3,#6X2]):3]~[*:4]\n",
      "atoms:   0  1  2 18  parameter_id: t64  smirks [*:1]-[#6X4:2]-[#7X3$(*~[#6X3,#6X2]):3]~[*:4]\n",
      "atoms:   0  1  5  6  parameter_id: t80  smirks [*:1]-[#7X3;r5:2]-@[#6X3;r5:3]~[*:4]\n",
      "atoms:   0  1  5 10  parameter_id: t80  smirks [*:1]-[#7X3;r5:2]-@[#6X3;r5:3]~[*:4]\n",
      "atoms:   0 11 10  5  parameter_id: t43  smirks [*:1]~[#6X3:2]-[#6X3:3]~[*:4]\n",
      "atoms:   0 11 10 22  parameter_id: t43  smirks [*:1]~[#6X3:2]-[#6X3:3]~[*:4]\n",
      "atoms:   0 11 12 13  parameter_id: t18  smirks [*:1]-[#6X4:2]-[#6X3:3]=[*:4]\n",
      "atoms:   0 11 12 23  parameter_id: t20  smirks [#1:1]-[#6X4:2]-[#6X3:3]=[#6X3:4]\n",
      "atoms:   0 11 12 24  parameter_id: t20  smirks [#1:1]-[#6X4:2]-[#6X3:3]=[#6X3:4]\n",
      "atoms:   1  0 11 10  parameter_id: t45  smirks [*:1]-,:[#6X3:2]=[#6X3:3]-,:[*:4]\n",
      "atoms:   1  0 11 12  parameter_id: t45  smirks [*:1]-,:[#6X3:2]=[#6X3:3]-,:[*:4]\n",
      "atoms:   1  2  3  4  parameter_id: t1  smirks [*:1]-[#6X4:2]-[#6X4:3]-[*:4]\n",
      "atoms:   1  2  3 19  parameter_id: t1  smirks [*:1]-[#6X4:2]-[#6X4:3]-[*:4]\n",
      "atoms:   1  2  3 20  parameter_id: t1  smirks [*:1]-[#6X4:2]-[#6X4:3]-[*:4]\n",
      "atoms:   1  5  6  7  parameter_id: t17  smirks [*:1]~[#6X3:2]-[#6X4:3]-[*:4]\n",
      "atoms:   1  5  6  8  parameter_id: t17  smirks [*:1]~[#6X3:2]-[#6X4:3]-[*:4]\n",
      "atoms:   1  5  6  9  parameter_id: t17  smirks [*:1]~[#6X3:2]-[#6X4:3]-[*:4]\n",
      "atoms:   1  5 10 11  parameter_id: t45  smirks [*:1]-,:[#6X3:2]=[#6X3:3]-,:[*:4]\n",
      "atoms:   1  5 10 22  parameter_id: t45  smirks [*:1]-,:[#6X3:2]=[#6X3:3]-,:[*:4]\n",
      "atoms:   2  1  0 11  parameter_id: t80  smirks [*:1]-[#7X3;r5:2]-@[#6X3;r5:3]~[*:4]\n",
      "atoms:   2  1  0 16  parameter_id: t80  smirks [*:1]-[#7X3;r5:2]-@[#6X3;r5:3]~[*:4]\n",
      "atoms:   2  1  5  6  parameter_id: t80  smirks [*:1]-[#7X3;r5:2]-@[#6X3;r5:3]~[*:4]\n",
      "atoms:   2  1  5 10  parameter_id: t80  smirks [*:1]-[#7X3;r5:2]-@[#6X3;r5:3]~[*:4]\n",
      "atoms:   2  3  4 21  parameter_id: t94  smirks [#6X4:1]-[#6X4:2]-[#8X2H1:3]-[#1:4]\n",
      "atoms:   3  2  1  5  parameter_id: t64  smirks [*:1]-[#6X4:2]-[#7X3$(*~[#6X3,#6X2]):3]~[*:4]\n",
      "atoms:   4  3  2 17  parameter_id: t9  smirks [#1:1]-[#6X4:2]-[#6X4:3]-[#8X2:4]\n",
      "atoms:   4  3  2 18  parameter_id: t9  smirks [#1:1]-[#6X4:2]-[#6X4:3]-[#8X2:4]\n",
      "atoms:   5  1  0 11  parameter_id: t80  smirks [*:1]-[#7X3;r5:2]-@[#6X3;r5:3]~[*:4]\n",
      "atoms:   5  1  0 16  parameter_id: t80  smirks [*:1]-[#7X3;r5:2]-@[#6X3;r5:3]~[*:4]\n",
      "atoms:   5  1  2 17  parameter_id: t64  smirks [*:1]-[#6X4:2]-[#7X3$(*~[#6X3,#6X2]):3]~[*:4]\n",
      "atoms:   5  1  2 18  parameter_id: t64  smirks [*:1]-[#6X4:2]-[#7X3$(*~[#6X3,#6X2]):3]~[*:4]\n",
      "atoms:   5 10 11 12  parameter_id: t43  smirks [*:1]~[#6X3:2]-[#6X3:3]~[*:4]\n",
      "atoms:   6  5 10 11  parameter_id: t45  smirks [*:1]-,:[#6X3:2]=[#6X3:3]-,:[*:4]\n",
      "atoms:   6  5 10 22  parameter_id: t45  smirks [*:1]-,:[#6X3:2]=[#6X3:3]-,:[*:4]\n",
      "atoms:   7  6  5 10  parameter_id: t18  smirks [*:1]-[#6X4:2]-[#6X3:3]=[*:4]\n",
      "atoms:   8  6  5 10  parameter_id: t18  smirks [*:1]-[#6X4:2]-[#6X3:3]=[*:4]\n",
      "atoms:   9  6  5 10  parameter_id: t18  smirks [*:1]-[#6X4:2]-[#6X3:3]=[*:4]\n",
      "atoms:  10 11  0 16  parameter_id: t45  smirks [*:1]-,:[#6X3:2]=[#6X3:3]-,:[*:4]\n",
      "atoms:  10 11 12 13  parameter_id: t17  smirks [*:1]~[#6X3:2]-[#6X4:3]-[*:4]\n",
      "atoms:  10 11 12 23  parameter_id: t17  smirks [*:1]~[#6X3:2]-[#6X4:3]-[*:4]\n",
      "atoms:  10 11 12 24  parameter_id: t17  smirks [*:1]~[#6X3:2]-[#6X4:3]-[*:4]\n",
      "atoms:  11 12 13 14  parameter_id: t51  smirks [*:1]~[#6X4:2]-[#7X3:3]~[*:4]\n",
      "atoms:  11 12 13 25  parameter_id: t51  smirks [*:1]~[#6X4:2]-[#7X3:3]~[*:4]\n",
      "atoms:  12 11  0 16  parameter_id: t45  smirks [*:1]-,:[#6X3:2]=[#6X3:3]-,:[*:4]\n",
      "atoms:  12 11 10 22  parameter_id: t43  smirks [*:1]~[#6X3:2]-[#6X3:3]~[*:4]\n",
      "atoms:  12 13 14 15  parameter_id: t51  smirks [*:1]~[#6X4:2]-[#7X3:3]~[*:4]\n",
      "atoms:  12 13 14 26  parameter_id: t51  smirks [*:1]~[#6X4:2]-[#7X3:3]~[*:4]\n",
      "atoms:  12 13 14 27  parameter_id: t51  smirks [*:1]~[#6X4:2]-[#7X3:3]~[*:4]\n",
      "atoms:  14 13 12 23  parameter_id: t51  smirks [*:1]~[#6X4:2]-[#7X3:3]~[*:4]\n",
      "atoms:  14 13 12 24  parameter_id: t51  smirks [*:1]~[#6X4:2]-[#7X3:3]~[*:4]\n",
      "atoms:  15 14 13 25  parameter_id: t51  smirks [*:1]~[#6X4:2]-[#7X3:3]~[*:4]\n",
      "atoms:  17  2  3 19  parameter_id: t3  smirks [#1:1]-[#6X4:2]-[#6X4:3]-[#1:4]\n",
      "atoms:  17  2  3 20  parameter_id: t3  smirks [#1:1]-[#6X4:2]-[#6X4:3]-[#1:4]\n",
      "atoms:  18  2  3 19  parameter_id: t3  smirks [#1:1]-[#6X4:2]-[#6X4:3]-[#1:4]\n",
      "atoms:  18  2  3 20  parameter_id: t3  smirks [#1:1]-[#6X4:2]-[#6X4:3]-[#1:4]\n",
      "atoms:  19  3  4 21  parameter_id: t93  smirks [*:1]-[#6X4:2]-[#8X2:3]-[#1:4]\n",
      "atoms:  20  3  4 21  parameter_id: t93  smirks [*:1]-[#6X4:2]-[#8X2:3]-[#1:4]\n",
      "atoms:  23 12 13 25  parameter_id: t51  smirks [*:1]~[#6X4:2]-[#7X3:3]~[*:4]\n",
      "atoms:  24 12 13 25  parameter_id: t51  smirks [*:1]~[#6X4:2]-[#7X3:3]~[*:4]\n",
      "atoms:  25 13 14 26  parameter_id: t51  smirks [*:1]~[#6X4:2]-[#7X3:3]~[*:4]\n",
      "atoms:  25 13 14 27  parameter_id: t51  smirks [*:1]~[#6X4:2]-[#7X3:3]~[*:4]\n",
      "\n",
      "ImproperTorsions:\n",
      "atoms:   0  1  2  5  parameter_id: i6  smirks [*:1]~[#7X3$(*@1-[*]=,:[*][*]=,:[*]@1):2](~[*:3])~[*:4]\n",
      "atoms:   0 11 10 12  parameter_id: i1  smirks [*:1]~[#6X3:2](~[*:3])~[*:4]\n",
      "atoms:   1  0 11 16  parameter_id: i1  smirks [*:1]~[#6X3:2](~[*:3])~[*:4]\n",
      "atoms:   1  5  6 10  parameter_id: i1  smirks [*:1]~[#6X3:2](~[*:3])~[*:4]\n",
      "atoms:   5 10 11 22  parameter_id: i1  smirks [*:1]~[#6X3:2](~[*:3])~[*:4]\n",
      "\n",
      "vdW:\n",
      "atoms:   0  parameter_id: n14  smirks [#6:1]\n",
      "atoms:   1  parameter_id: n20  smirks [#7:1]\n",
      "atoms:   2  parameter_id: n16  smirks [#6X4:1]\n",
      "atoms:   3  parameter_id: n16  smirks [#6X4:1]\n",
      "atoms:   4  parameter_id: n19  smirks [#8X2H1+0:1]\n",
      "atoms:   5  parameter_id: n14  smirks [#6:1]\n",
      "atoms:   6  parameter_id: n16  smirks [#6X4:1]\n",
      "atoms:   7  parameter_id: n23  smirks [#9:1]\n",
      "atoms:   8  parameter_id: n23  smirks [#9:1]\n",
      "atoms:   9  parameter_id: n23  smirks [#9:1]\n",
      "atoms:  10  parameter_id: n14  smirks [#6:1]\n",
      "atoms:  11  parameter_id: n14  smirks [#6:1]\n",
      "atoms:  12  parameter_id: n16  smirks [#6X4:1]\n",
      "atoms:  13  parameter_id: n20  smirks [#7:1]\n",
      "atoms:  14  parameter_id: n16  smirks [#6X4:1]\n",
      "atoms:  15  parameter_id: n24  smirks [#17:1]\n",
      "atoms:  16  parameter_id: n8  smirks [#1:1]-[#6X3]~[#7,#8,#9,#16,#17,#35]\n",
      "atoms:  17  parameter_id: n3  smirks [#1:1]-[#6X4]-[#7,#8,#9,#16,#17,#35]\n",
      "atoms:  18  parameter_id: n3  smirks [#1:1]-[#6X4]-[#7,#8,#9,#16,#17,#35]\n",
      "atoms:  19  parameter_id: n3  smirks [#1:1]-[#6X4]-[#7,#8,#9,#16,#17,#35]\n",
      "atoms:  20  parameter_id: n3  smirks [#1:1]-[#6X4]-[#7,#8,#9,#16,#17,#35]\n",
      "atoms:  21  parameter_id: n12  smirks [#1:1]-[#8]\n",
      "atoms:  22  parameter_id: n7  smirks [#1:1]-[#6X3]\n",
      "atoms:  23  parameter_id: n3  smirks [#1:1]-[#6X4]-[#7,#8,#9,#16,#17,#35]\n",
      "atoms:  24  parameter_id: n3  smirks [#1:1]-[#6X4]-[#7,#8,#9,#16,#17,#35]\n",
      "atoms:  25  parameter_id: n11  smirks [#1:1]-[#7]\n",
      "atoms:  26  parameter_id: n4  smirks [#1:1]-[#6X4](-[#7,#8,#9,#16,#17,#35])-[#7,#8,#9,#16,#17,#35]\n",
      "atoms:  27  parameter_id: n4  smirks [#1:1]-[#6X4](-[#7,#8,#9,#16,#17,#35])-[#7,#8,#9,#16,#17,#35]\n",
      "\n",
      "Electrostatics:\n",
      "\n",
      "LibraryCharges:\n",
      "\n",
      "ToolkitAM1BCC:\n",
      "\n",
      "TwoMinima:\n",
      "atoms:   0  1  2  5  parameter_id: tm1  smirks [*:1]-[#7X3:2](-[*:3])-[*:4]\n",
      "atoms:   0  1  5  2  parameter_id: tm1  smirks [*:1]-[#7X3:2](-[*:3])-[*:4]\n",
      "atoms:   0  2  1  5  parameter_id: tm1  smirks [*:1]-[#7X3:2](-[*:3])-[*:4]\n",
      "atoms:   0  5  1  2  parameter_id: tm1  smirks [*:1]-[#7X3:2](-[*:3])-[*:4]\n",
      "atoms:   2  0  1  5  parameter_id: tm1  smirks [*:1]-[#7X3:2](-[*:3])-[*:4]\n",
      "atoms:   2  1  0  5  parameter_id: tm1  smirks [*:1]-[#7X3:2](-[*:3])-[*:4]\n",
      "atoms:  12 13 14 25  parameter_id: tm1  smirks [*:1]-[#7X3:2](-[*:3])-[*:4]\n",
      "atoms:  12 13 25 14  parameter_id: tm1  smirks [*:1]-[#7X3:2](-[*:3])-[*:4]\n",
      "atoms:  12 14 13 25  parameter_id: tm1  smirks [*:1]-[#7X3:2](-[*:3])-[*:4]\n",
      "atoms:  12 25 13 14  parameter_id: tm1  smirks [*:1]-[#7X3:2](-[*:3])-[*:4]\n",
      "atoms:  14 12 13 25  parameter_id: tm1  smirks [*:1]-[#7X3:2](-[*:3])-[*:4]\n",
      "atoms:  14 13 12 25  parameter_id: tm1  smirks [*:1]-[#7X3:2](-[*:3])-[*:4]\n"
     ]
    }
   ],
   "source": [
    "from openff.toolkit import ForceField, Molecule, Topology\n",
    "\n",
    "topology = Topology.from_molecules([molecule])\n",
    "\n",
    "molecule_force_list = twominima_force_field.label_molecules(topology)\n",
    "\n",
    "for mol_idx, mol_forces in enumerate(molecule_force_list):\n",
    "    print(f\"Forces for molecule {mol_idx}\")\n",
    "    for force_tag, force_dict in mol_forces.items():\n",
    "        print(f\"\\n{force_tag}:\")\n",
    "        for atom_indices, parameter in force_dict.items():\n",
    "            atomstr = \"\"\n",
    "            for idx in atom_indices:\n",
    "                atomstr += f\"{idx:>3}\"\n",
    "            print(\n",
    "                f\"atoms: {atomstr}  parameter_id: {parameter.id}  smirks {parameter.smirks}\"\n",
    "            )\n",
    "\n"
   ]
  },
  {
   "cell_type": "code",
   "execution_count": 15,
   "id": "ea91f930-a132-41e4-bd73-e4f2e184ea11",
   "metadata": {},
   "outputs": [
    {
     "ename": "KeyError",
     "evalue": "'TwoMinima'",
     "output_type": "error",
     "traceback": [
      "\u001b[31m---------------------------------------------------------------------------\u001b[39m",
      "\u001b[31mKeyError\u001b[39m                                  Traceback (most recent call last)",
      "\u001b[36mCell\u001b[39m\u001b[36m \u001b[39m\u001b[32mIn[15]\u001b[39m\u001b[32m, line 1\u001b[39m\n\u001b[32m----> \u001b[39m\u001b[32m1\u001b[39m twominima_tensor_ff, [twominima_topology] = \u001b[43msmee\u001b[49m\u001b[43m.\u001b[49m\u001b[43mconverters\u001b[49m\u001b[43m.\u001b[49m\u001b[43mconvert_interchange\u001b[49m\u001b[43m(\u001b[49m\u001b[43mtwominima_interchange\u001b[49m\u001b[43m)\u001b[49m\n",
      "\u001b[36mFile \u001b[39m\u001b[32m~/miniconda3/envs/smee-descent/lib/python3.11/site-packages/smee/converters/openff/_openff.py:508\u001b[39m, in \u001b[36mconvert_interchange\u001b[39m\u001b[34m(interchange)\u001b[39m\n\u001b[32m    505\u001b[39m \u001b[38;5;28;01mif\u001b[39;00m \u001b[33m\"\u001b[39m\u001b[33mConstraints\u001b[39m\u001b[33m\"\u001b[39m \u001b[38;5;129;01min\u001b[39;00m handlers_by_type:\n\u001b[32m    506\u001b[39m     constraints = _convert_constraints(handlers_by_type.pop(\u001b[33m\"\u001b[39m\u001b[33mConstraints\u001b[39m\u001b[33m\"\u001b[39m))\n\u001b[32m--> \u001b[39m\u001b[32m508\u001b[39m conversion_order = \u001b[43m_resolve_conversion_order\u001b[49m\u001b[43m(\u001b[49m\u001b[43m[\u001b[49m\u001b[43m*\u001b[49m\u001b[43mhandlers_by_type\u001b[49m\u001b[43m]\u001b[49m\u001b[43m)\u001b[49m\n\u001b[32m    509\u001b[39m converted = []\n\u001b[32m    511\u001b[39m \u001b[38;5;28;01mfor\u001b[39;00m handler_type \u001b[38;5;129;01min\u001b[39;00m conversion_order:\n",
      "\u001b[36mFile \u001b[39m\u001b[32m~/miniconda3/envs/smee-descent/lib/python3.11/site-packages/smee/converters/openff/_openff.py:428\u001b[39m, in \u001b[36m_resolve_conversion_order\u001b[39m\u001b[34m(handler_types)\u001b[39m\n\u001b[32m    425\u001b[39m     dep_graph.add_node(handler_type)\n\u001b[32m    427\u001b[39m \u001b[38;5;28;01mfor\u001b[39;00m handler_type \u001b[38;5;129;01min\u001b[39;00m handler_types:\n\u001b[32m--> \u001b[39m\u001b[32m428\u001b[39m     converter = \u001b[43m_CONVERTERS\u001b[49m\u001b[43m[\u001b[49m\u001b[43mhandler_type\u001b[49m\u001b[43m]\u001b[49m\n\u001b[32m    430\u001b[39m     \u001b[38;5;28;01mif\u001b[39;00m converter.depends_on \u001b[38;5;129;01mis\u001b[39;00m \u001b[38;5;28;01mNone\u001b[39;00m:\n\u001b[32m    431\u001b[39m         \u001b[38;5;28;01mcontinue\u001b[39;00m\n",
      "\u001b[31mKeyError\u001b[39m: 'TwoMinima'"
     ]
    }
   ],
   "source": [
    "twominima_tensor_ff, [twominima_topology] = smee.converters.convert_interchange(twominima_interchange)\n"
   ]
  },
  {
   "cell_type": "code",
   "execution_count": null,
   "id": "aacf82f2-f9e1-4ad9-a0a6-78e80010c071",
   "metadata": {
    "scrolled": true
   },
   "outputs": [],
   "source": [
    "all_smiles = []\n",
    "interchanges = []\n",
    "for entry in tqdm.tqdm(dataset):\n",
    "    mol = Molecule.from_mapped_smiles(\n",
    "        entry[\"smiles\"],\n",
    "        allow_undefined_stereo=True\n",
    "    )\n",
    "    all_smiles.append(entry[\"smiles\"])\n",
    "    interchange = twominima_force_field.create_interchange(mol.to_topology())\n",
    "    interchanges.append(interchange)\n",
    "    \n",
    "smee_force_field, smee_topologies = smee.converters.convert_interchange(interchanges)\n",
    "topologies = dict(zip(all_smiles, smee_topologies))"
   ]
  },
  {
   "cell_type": "markdown",
   "id": "a578c861-8e86-457a-baa5-08c7c669018b",
   "metadata": {},
   "source": [
    "## Fit\n",
    "\n",
    "Now we can set up and run the fit."
   ]
  },
  {
   "cell_type": "code",
   "execution_count": null,
   "id": "2e39640f-787a-43f4-a356-351bc7799d73",
   "metadata": {},
   "outputs": [],
   "source": [
    "import descent.train\n",
    "import descent.targets.energy\n",
    "\n",
    "import math\n",
    "import pathlib\n",
    "import tensorboardX\n",
    "import more_itertools\n"
   ]
  },
  {
   "cell_type": "code",
   "execution_count": null,
   "id": "28802383-a0c8-4370-9f95-d57f4de291f0",
   "metadata": {
    "scrolled": true
   },
   "outputs": [],
   "source": [
    "# specify which parameters to train\n",
    "# and some details about them\n",
    "# they're scaled so they're roughly on the same order of magnitude\n",
    "\n",
    "parameters = {\n",
    "    \"Bonds\": descent.train.ParameterConfig(\n",
    "        cols=[\"k\", \"length\"],\n",
    "        scales={\"k\": 1e-2, \"length\": 1.0}, # normalize so roughly equal\n",
    "        limits={\"k\":[0.0, None], \"length\": [0.0, None]}\n",
    "        # the include/exclude types are Interchange PotentialKey.id's -- typically SMIRKS\n",
    "        # include=[], <-- bonds to train. Not specifying trains all\n",
    "        # exclude=[], <-- bonds NOT to train\n",
    "    ),\n",
    "    \"Angles\": descent.train.ParameterConfig(\n",
    "        cols=[\"k\", \"angle\"],\n",
    "        scales={\"k\": 1e-2, \"angle\": 1.0},\n",
    "        limits={\"k\": [0.0, None], \"angle\": [0.0, math.pi]}\n",
    "    ),\n",
    "    \"ProperTorsions\": descent.train.ParameterConfig(\n",
    "        # fit ks\n",
    "        cols=[\"k\"],\n",
    "        scales={\"k\": 1.0},\n",
    "    ),\n",
    "    \"TwoMinima\": descent.train.ParameterConfig(\n",
    "        cols=[\"k\"],\n",
    "        scales={\"k\": 1.0},\n",
    "        \n",
    "    )\n",
    "\n",
    "}"
   ]
  },
  {
   "cell_type": "code",
   "execution_count": null,
   "id": "38024384-4aff-46f9-9555-37cf60a19cc3",
   "metadata": {
    "scrolled": true
   },
   "outputs": [],
   "source": [
    "trainable = descent.train.Trainable(\n",
    "    force_field=smee_force_field,\n",
    "    parameters=parameters,\n",
    "    attributes={}\n",
    ")"
   ]
  },
  {
   "cell_type": "code",
   "execution_count": null,
   "id": "4d67e283-7686-4d04-808e-e09aa58dcae2",
   "metadata": {},
   "outputs": [],
   "source": [
    "print(twominima_force_field.registered_parameter_handlers)"
   ]
  },
  {
   "cell_type": "code",
   "execution_count": null,
   "id": "a2f3f33d-41dd-4c92-b13b-aade5798b83b",
   "metadata": {},
   "outputs": [],
   "source": [
    "# optional below if you want cool tensorboard logging\n",
    "def write_metrics(\n",
    "        epoch: int,\n",
    "        loss: torch.Tensor,\n",
    "        loss_energy: torch.Tensor,\n",
    "        loss_forces: torch.Tensor,\n",
    "        writer: tensorboardX.SummaryWriter\n",
    "):\n",
    "    print(f\"epoch={epoch} loss={loss.detach().item():.6f}\", flush=True)\n",
    "\n",
    "    writer.add_scalar(\"loss\", loss.detach().item(), epoch)\n",
    "    writer.add_scalar(\"loss_energy\", loss_energy.detach().item(), epoch)\n",
    "    writer.add_scalar(\"loss_forces\", loss_forces.detach().item(), epoch)\n",
    "\n",
    "    writer.add_scalar(\"rmse_energy\", math.sqrt(loss_energy.detach().item()), epoch)\n",
    "    writer.add_scalar(\"rmse_forces\", math.sqrt(loss_forces.detach().item()), epoch)\n",
    "    writer.flush()"
   ]
  },
  {
   "cell_type": "markdown",
   "id": "ed660188-8fa5-4981-9480-ab275ad7f3ea",
   "metadata": {},
   "source": [
    "Specify some hyperparameters, n_epochs is intentionally very low to guarantee fast execution."
   ]
  },
  {
   "cell_type": "code",
   "execution_count": null,
   "id": "2b8ba820-b2b4-496c-9dfd-3dea69f30a0d",
   "metadata": {},
   "outputs": [],
   "source": [
    "N_EPOCHS = 10\n",
    "LEARNING_RATE = 0.01\n",
    "BATCH_SIZE = 500"
   ]
  },
  {
   "cell_type": "code",
   "execution_count": null,
   "id": "e4626106-ce81-4b29-90c2-21b7720c9824",
   "metadata": {},
   "outputs": [],
   "source": [
    "# make directory to save files in\n",
    "directory = pathlib.Path(\"my-smee-fit\")\n",
    "directory.mkdir(exist_ok=True, parents=True)\n"
   ]
  },
  {
   "cell_type": "markdown",
   "id": "4766fcdb-5ea1-4cde-92ff-45972bea9142",
   "metadata": {},
   "source": [
    "Run fit below."
   ]
  },
  {
   "cell_type": "code",
   "execution_count": null,
   "id": "535d7e41-913d-4f32-8279-7328d2fba0fd",
   "metadata": {},
   "outputs": [],
   "source": [
    "# load tensorboard extension so we can view in notebook\n",
    "%load_ext tensorboard"
   ]
  },
  {
   "cell_type": "code",
   "execution_count": null,
   "id": "fdaa2af1-a22e-46f3-beed-0a208eb9b4df",
   "metadata": {
    "scrolled": true
   },
   "outputs": [],
   "source": [
    "trainable_parameters = trainable.to_values()\n",
    "device = trainable_parameters.device.type\n",
    "\n",
    "torch.autograd.set_detect_anomaly(True)\n",
    "\n",
    "with tensorboardX.SummaryWriter(str(directory)) as writer:\n",
    "    optimizer = torch.optim.Adam([trainable_parameters], lr=LEARNING_RATE, amsgrad=True)\n",
    "    dataset_indices = list(range(len(dataset)))\n",
    "\n",
    "    for i in range(N_EPOCHS):\n",
    "        ff = trainable.to_force_field(trainable_parameters)\n",
    "        total_loss = torch.zeros(size=(1,), device=device)\n",
    "        energy_loss = torch.zeros(size=(1,), device=device)\n",
    "        force_loss = torch.zeros(size=(1,), device=device)\n",
    "        grad = None\n",
    "    \n",
    "        for batch_ids in tqdm.tqdm(\n",
    "            more_itertools.batched(dataset_indices, BATCH_SIZE),\n",
    "            desc='Calculating energies',\n",
    "            ncols=80, total=math.ceil(len(dataset) / BATCH_SIZE)\n",
    "        ):\n",
    "            batch = dataset.select(indices=batch_ids)\n",
    "            true_batch_size = len(dataset)\n",
    "            batch_configs = sum([len(d[\"energy\"]) for d in batch])\n",
    "\n",
    "            e_ref, e_pred, f_ref, f_pred = descent.targets.energy.predict(\n",
    "                batch, ff, topologies, \"mean\"\n",
    "            )   \n",
    "            # L2 loss\n",
    "            batch_loss_energy = ((e_pred - e_ref) ** 2).sum() / true_batch_size\n",
    "            batch_loss_force = ((f_pred - f_ref) ** 2).sum() / true_batch_size\n",
    "\n",
    "            # Equal sum of L2 loss on energies and forces\n",
    "            batch_loss = batch_loss_energy + batch_loss_force\n",
    "\n",
    "            (batch_grad, ) = torch.autograd.grad(batch_loss, trainable_parameters, create_graph=True)\n",
    "            batch_grad = batch_grad.detach()\n",
    "            if grad is None:\n",
    "                grad = batch_grad\n",
    "            else:\n",
    "                grad += batch_grad\n",
    "            \n",
    "            # keep sum of squares to report MSE at the end\n",
    "            total_loss += batch_loss.detach()\n",
    "            energy_loss += batch_loss_energy.detach()\n",
    "            force_loss += batch_loss_force.detach()\n",
    "        \n",
    "        trainable_parameters.grad = grad\n",
    "        \n",
    "        write_metrics(\n",
    "            epoch=i, loss=total_loss, loss_energy=energy_loss,\n",
    "            loss_forces=force_loss, writer=writer\n",
    "        )\n",
    "\n",
    "        optimizer.step()\n",
    "        optimizer.zero_grad()\n",
    "\n",
    "        if i % 10 == 0:\n",
    "            torch.save(\n",
    "                trainable.to_force_field(trainable_parameters),\n",
    "                directory / f\"force-field-epoch-{i}.pt\"\n",
    "            )\n",
    "\n",
    "    torch.save(\n",
    "        trainable.to_force_field(trainable_parameters),\n",
    "        directory / \"final-force-field.pt\"\n",
    "    )\n",
    "    "
   ]
  },
  {
   "cell_type": "markdown",
   "id": "0d141511-d2a4-4e28-84b1-ccd13339147c",
   "metadata": {},
   "source": [
    "Metrics can be viewed in tensorboard below.\n",
    "\n",
    "`tensorboard --logdir my-smee-fit` can also be run on command line instead of in the notebook."
   ]
  },
  {
   "cell_type": "code",
   "execution_count": null,
   "id": "8ba7e487-a3df-4698-8f76-ff01092a5385",
   "metadata": {},
   "outputs": [],
   "source": [
    "%tensorboard --logdir my-smee-fit"
   ]
  },
  {
   "cell_type": "markdown",
   "id": "5f32549d-3952-48a3-ad6f-9979659e2e97",
   "metadata": {},
   "source": [
    "## Convert back to OFFXML"
   ]
  },
  {
   "cell_type": "code",
   "execution_count": null,
   "id": "73fd1e41-6844-4488-bbd3-b1bd5c648aa9",
   "metadata": {},
   "outputs": [],
   "source": [
    "from collections import defaultdict\n",
    "\n",
    "for potential in smee_force_field.potentials:\n",
    "    handler_name = potential.parameter_keys[0].associated_handler\n",
    "\n",
    "    parameter_attrs = potential.parameter_cols\n",
    "    parameter_units = potential.parameter_units\n",
    "\n",
    "    if handler_name in [\"Bonds\", \"Angles\"]:\n",
    "        handler = twominima_force_field.get_parameter_handler(handler_name)\n",
    "        for i, opt_parameters in enumerate(potential.parameters):\n",
    "            smirks = potential.parameter_keys[i].id\n",
    "            ff_parameter = handler[smirks]\n",
    "            opt_parameters = opt_parameters.detach().cpu().numpy()\n",
    "            for j, (p, unit) in enumerate(zip(parameter_attrs, parameter_units)):\n",
    "                setattr(ff_parameter, p, opt_parameters[j] * unit)\n",
    "\n",
    "    elif handler_name in [\"ProperTorsions\"]:\n",
    "        handler = twominima_force_field.get_parameter_handler(handler_name)\n",
    "        k_index = parameter_attrs.index('k')\n",
    "        p_index = parameter_attrs.index('periodicity')\n",
    "        # we need to collect the k values into a list across the entries\n",
    "        collection_data = defaultdict(dict)\n",
    "        for i, opt_parameters in enumerate(potential.parameters):\n",
    "            smirks = potential.parameter_keys[i].id\n",
    "            ff_parameter = handler[smirks]\n",
    "            opt_parameters = opt_parameters.detach().cpu().numpy()\n",
    "            # find k and the periodicity\n",
    "            k = opt_parameters[k_index] * parameter_units[k_index]\n",
    "            p = int(opt_parameters[p_index])\n",
    "            collection_data[smirks][p] = k\n",
    "        # now update the force field\n",
    "        for smirks, k_s in collection_data.items():\n",
    "            ff_parameter = handler[smirks]\n",
    "            k_mapped_to_p = [k_s[p] for p in ff_parameter.periodicity]\n",
    "            ff_parameter.k = k_mapped_to_p\n",
    "\n",
    "    elif handler_name in [\"ImproperTorsions\"]:\n",
    "        k_index = parameter_attrs.index('k')\n",
    "        handler = twominima_force_field.get_parameter_handler(handler_name)\n",
    "        # we only fit the v2 terms for improper torsions so convert to list and set\n",
    "        for i, opt_parameters in enumerate(potential.parameters):\n",
    "            smirks = potential.parameter_keys[i].id\n",
    "            ff_parameter = handler[smirks]\n",
    "            opt_parameters = opt_parameters.detach().cpu().numpy()\n",
    "            ff_parameter.k = [opt_parameters[k_index] * parameter_units[k_index]]\n",
    "\n",
    "    elif handler_name == \"TwoMinima\":\n",
    "        handler = twominima_force_field.get_parameter_handler(handler_name)\n",
    "        param_indices = {\n",
    "            name: i for i, name in enumerate(parameter_attrs)\n",
    "        }\n",
    "\n",
    "        for i, opt_parameters in enumerate(potential.parameters):\n",
    "            smirks = potential.parameter_keys[i].id\n",
    "            ff_parameter = handler[smirks]\n",
    "            opt_parameters = opt_parameters.detach().cpu().numpy()\n",
    "\n",
    "            for param_name, unit in zip(parameter_attrs, parameter_units):\n",
    "                value = opt_parameters[param_indices[param_name]] * unit\n",
    "                setattr(ff_parameter, param_name, value)\n",
    "\n",
    "\n",
    "twominima_force_field.to_file(\"two_minima_final-force-field.offxml\")"
   ]
  },
  {
   "cell_type": "code",
   "execution_count": null,
   "id": "363fb56d-0894-4a4e-bac4-26c9f5c12ef6",
   "metadata": {},
   "outputs": [],
   "source": []
  }
 ],
 "metadata": {
  "kernelspec": {
   "display_name": "Python 3 (ipykernel)",
   "language": "python",
   "name": "python3"
  },
  "language_info": {
   "codemirror_mode": {
    "name": "ipython",
    "version": 3
   },
   "file_extension": ".py",
   "mimetype": "text/x-python",
   "name": "python",
   "nbconvert_exporter": "python",
   "pygments_lexer": "ipython3",
   "version": "3.11.11"
  }
 },
 "nbformat": 4,
 "nbformat_minor": 5
}
